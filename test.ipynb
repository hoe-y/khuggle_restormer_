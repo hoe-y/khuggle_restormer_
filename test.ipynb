{
 "cells": [
  {
   "cell_type": "code",
   "execution_count": 27,
   "metadata": {},
   "outputs": [],
   "source": [
    "rm_list = [\"/home/dircon/seoyun2/contest/AIHub/train_gt/D-211213_O4049CGT_034_0001.jpg\",\n",
    "\"/home/dircon/seoyun2/contest/AIHub/train_gt/D-210907_O8102CGT_026_0001.jpg\",\n",
    "\"/home/dircon/seoyun2/contest/AIHub/train_gt/D-211215_O9127CGT_080_0001.jpg\",\n",
    "\"/home/dircon/seoyun2/contest/AIHub/train_gt/D-211215_O1017CGT_064_0001.jpg\",\n",
    "\"/home/dircon/seoyun2/contest/AIHub/train_gt/D-211130_O9124CGT_008_0001.jpg\",\n",
    "\"/home/dircon/seoyun2/contest/AIHub/train_gt/D-211213_O8106CGT_031_0001.jpg\",\n",
    "\"/home/dircon/seoyun2/contest/AIHub/train_gt/D-211215_O6064CGT_068_0001.jpg\",\n",
    "\"/home/dircon/seoyun2/contest/AIHub/train_gt/D-211218_O4044CGT_075_0001.jpg\",\n",
    "\"/home/dircon/seoyun2/contest/AIHub/train_gt/D-211213_O1002CGT_091_0001.jpg\",\n",
    "\"/home/dircon/seoyun2/contest/AIHub/train_gt/D-211215_O6064CGT_067_0001.jpg\",\n",
    "\"/home/dircon/seoyun2/contest/AIHub/train_gt/D-211201_O9127CGT_008_0001.jpg\",\n",
    "\"/home/dircon/seoyun2/contest/AIHub/train_gt/D-211213_O1018CGT_031_0001.jpg\",\n",
    "\"/home/dircon/seoyun2/contest/AIHub/train_gt/D-211213_O9108CGT_002_0001.jpg\",\n",
    "\"/home/dircon/seoyun2/contest/AIHub/train_gt/D-211213_O7078CGT_001_0001.jpg\",\n",
    "\"/home/dircon/seoyun2/contest/AIHub/train_gt/D-211215_O6070CGT_032_0001.jpg\",\n",
    "\"/home/dircon/seoyun2/contest/AIHub/train_gt/D-211215_O6132CGT_067_0001.jpg\",\n",
    "\"/home/dircon/seoyun2/contest/AIHub/train_gt/D-211201_O9108CGT_002_0001.jpg\",\n",
    "\"/home/dircon/seoyun2/contest/AIHub/train_gt/D-211215_O9117CGT_062_0001.jpg\",\n",
    "\"/home/dircon/seoyun2/contest/AIHub/train_gt/D-211215_O9121CGT_062_0001.jpg\",\n",
    "\"/home/dircon/seoyun2/contest/AIHub/train_gt/D-211130_O4050CGT_036_0001.jpg\",\n",
    "\"/home/dircon/seoyun2/contest/AIHub/train_gt/D-211215_O9127CGT_034_0001.jpg\",\n",
    "\"/home/dircon/seoyun2/contest/AIHub/train_gt/D-211201_O9124CGT_002_0001.jpg\",\n",
    "\"/home/dircon/seoyun2/contest/AIHub/train_gt/D-211130_O5060CGT_004_0001.jpg\",\n",
    "\"/home/dircon/seoyun2/contest/AIHub/train_gt/D-211215_O1030CGT_075_0001.jpg\",\n",
    "\"/home/dircon/seoyun2/contest/AIHub/train_gt/D-211213_O4049CGT_032_0001.jpg\",\n",
    "\"/home/dircon/seoyun2/contest/AIHub/train_gt/D-211130_O4050CGT_031_0001.jpg\",\n",
    "\"/home/dircon/seoyun2/contest/AIHub/train_gt/D-211215_O4050CGT_063_0001.jpg\",\n",
    "\"/home/dircon/seoyun2/contest/AIHub/train_gt/D-211225_O4049CGT_064_0001.jpg\",\n",
    "\"/home/dircon/seoyun2/contest/AIHub/train_gt/D-211215_O4058CGT_005_0001.jpg\",\n",
    "\"/home/dircon/seoyun2/contest/AIHub/train_gt/D-211213_O4049CGT_001_0001.jpg\",\n",
    "\"/home/dircon/seoyun2/contest/AIHub/train_gt/D-211130_O4047CGT_002_0001.jpg\",\n",
    "\"/home/dircon/seoyun2/contest/AIHub/train_gt/D-211213_O4047CGT_001_0001.jpg\",\n",
    "\"/home/dircon/seoyun2/contest/AIHub/train_gt/D-211213_O5060CGT_002_0001.jpg\",\n",
    "\"/home/dircon/seoyun2/contest/AIHub/train_gt/D-211130_O7100CGT_004_0001.jpg\",\n",
    "\"/home/dircon/seoyun2/contest/AIHub/train_gt/D-211130_O4050CGT_033_0001.jpg\",\n",
    "\"/home/dircon/seoyun2/contest/AIHub/train_gt/D-210907_O8102CGT_003_0001.jpg\",\n",
    "\"/home/dircon/seoyun2/contest/AIHub/train_gt/D-211201_O9121CGT_005_0001.jpg\",\n",
    "\"/home/dircon/seoyun2/contest/AIHub/train_gt/D-211215_O1022CGT_073_0001.jpg\",\n",
    "\"/home/dircon/seoyun2/contest/AIHub/train_gt/D-210907_O4054CGT_013_0001.jpg\",\n",
    "\"/home/dircon/seoyun2/contest/AIHub/train_gt/D-211213_O4044CGT_062_0001.jpg\",\n",
    "\"/home/dircon/seoyun2/contest/AIHub/train_gt/D-210907_O8105CGT_003_0001.jpg\",\n",
    "\"/home/dircon/seoyun2/contest/AIHub/train_gt/D-211215_O7085CGT_002_0001.jpg\",\n",
    "\"/home/dircon/seoyun2/contest/AIHub/train_gt/D-211213_O7097CGT_031_0001.jpg\",\n",
    "\"/home/dircon/seoyun2/contest/AIHub/train_gt/D-211130_O4051CGT_061_0001.jpg\",\n",
    "\"/home/dircon/seoyun2/contest/AIHub/train_gt/D-211213_O1019CGT_034_0001.jpg\",\n",
    "\"/home/dircon/seoyun2/contest/AIHub/train_gt/D-211130_O4050CGT_068_0001.jpg\",\n",
    "\"/home/dircon/seoyun2/contest/AIHub/train_gt/D-211213_O1025CGT_001_0001.jpg\",\n",
    "\"/home/dircon/seoyun2/contest/AIHub/train_gt/D-210917_O6065CGT_002_0001.jpg\",\n",
    "\"/home/dircon/seoyun2/contest/AIHub/train_gt/D-211215_O9121CGT_063_0001.jpg\",\n",
    "\"/home/dircon/seoyun2/contest/AIHub/train_gt/D-211215_O9117CGT_074_0001.jpg\",\n",
    "\"/home/dircon/seoyun2/contest/AIHub/train_gt/D-211130_O7075CGT_002_0001.jpg\",\n",
    "\"/home/dircon/seoyun2/contest/AIHub/train_gt/D-211215_O9128CGT_069_0001.jpg\",\n",
    "\"/home/dircon/seoyun2/contest/AIHub/train_gt/D-211215_O9120CGT_033_0001.jpg\",\n",
    "\"/home/dircon/seoyun2/contest/AIHub/train_gt/D-211213_O1026CGT_061_0001.jpg\",\n",
    "\"/home/dircon/seoyun2/contest/AIHub/train_gt/D-211130_O4050CGT_032_0001.jpg\",\n",
    "\"/home/dircon/seoyun2/contest/AIHub/train_gt/D-211213_O7097CGT_032_0001.jpg\",\n",
    "\"/home/dircon/seoyun2/contest/AIHub/train_gt/D-211215_O1020CGT_014_0001.jpg\",\n",
    "\"/home/dircon/seoyun2/contest/AIHub/train_gt/D-211213_O7075CGT_002_0001.jpg\",\n",
    "\"/home/dircon/seoyun2/contest/AIHub/train_gt/D-211215_O4049CGT_037_0001.jpg\",\n",
    "\"/home/dircon/seoyun2/contest/AIHub/train_gt/D-210927_O9110CGT_002_0001.jpg\",\n",
    "\"/home/dircon/seoyun2/contest/AIHub/train_gt/D-211215_O4050CGT_064_0001.jpg\",\n",
    "\"/home/dircon/seoyun2/contest/AIHub/train_gt/D-211215_O9121CGT_061_0001.jpg\",\n",
    "\"/home/dircon/seoyun2/contest/AIHub/train_gt/D-211130_O5059CGT_004_0001.jpg\",\n",
    "\"/home/dircon/seoyun2/contest/AIHub/train_gt/D-211215_O1030CGT_082_0001.jpg\",\n",
    "\"/home/dircon/seoyun2/contest/AIHub/train_gt/D-211215_O9126CGT_001_0001.jpg\",\n",
    "\"/home/dircon/seoyun2/contest/AIHub/train_gt/D-211213_O4044CGT_061_0001.jpg\",\n",
    "\"/home/dircon/seoyun2/contest/AIHub/train_gt/D-211213_O1030CGT_062_0001.jpg\",\n",
    "\"/home/dircon/seoyun2/contest/AIHub/train_gt/D-210907_O4054CGT_010_0001.jpg\",\n",
    "\"/home/dircon/seoyun2/contest/AIHub/train_gt/D-211130_O7100CGT_003_0001.jpg\",\n",
    "\"/home/dircon/seoyun2/contest/AIHub/train_gt/D-211215_O7085CGT_003_0001.jpg\",\n",
    "\"/home/dircon/seoyun2/contest/AIHub/train_gt/D-211130_O9124CGT_001_0001.jpg\",\n",
    "\"/home/dircon/seoyun2/contest/AIHub/train_gt/D-210907_O8102CGT_004_0001.jpg\",\n",
    "\"/home/dircon/seoyun2/contest/AIHub/train_gt/D-211215_O1017CGT_065_0001.jpg\",\n",
    "\"/home/dircon/seoyun2/contest/AIHub/train_gt/D-211215_O7085CGT_077_0001.jpg\",\n",
    "\"/home/dircon/seoyun2/contest/AIHub/train_gt/D-210907_O9110CGT_011_0001.jpg\",\n",
    "\"/home/dircon/seoyun2/contest/AIHub/train_gt/D-211201_O9108CGT_004_0001.jpg\",\n",
    "\"/home/dircon/seoyun2/contest/AIHub/train_gt/D-211215_O1014CGT_001_0001.jpg\",\n",
    "\"/home/dircon/seoyun2/contest/AIHub/train_gt/D-211108_O8103CGT_001_0001.jpg\",\n",
    "\"/home/dircon/seoyun2/contest/AIHub/train_gt/D-211226_O8106CGT_066_0001.jpg\",\n",
    "\"/home/dircon/seoyun2/contest/AIHub/train_gt/D-211215_O6070CGT_037_0001.jpg\",\n",
    "\"/home/dircon/seoyun2/contest/AIHub/train_gt/D-211225_O4049CGT_063_0001.jpg\",\n",
    "\"/home/dircon/seoyun2/contest/AIHub/train_gt/D-210907_O4053CGT_002_0001.jpg\",\n",
    "\"/home/dircon/seoyun2/contest/AIHub/train_gt/D-211130_O5060CGT_001_0001.jpg\",\n",
    "\"/home/dircon/seoyun2/contest/AIHub/train_gt/D-211130_O4050CGT_035_0001.jpg\",\n",
    "\"/home/dircon/seoyun2/contest/AIHub/train_gt/D-211213_O1018CGT_032_0001.jpg\",\n",
    "\"/home/dircon/seoyun2/contest/AIHub/train_gt/D-211201_O9108CGT_003_0001.jpg\",\n",
    "\"/home/dircon/seoyun2/contest/AIHub/train_gt/D-211215_O9120CGT_068_0001.jpg\",\n",
    "\"/home/dircon/seoyun2/contest/AIHub/train_gt/D-211215_O9120CGT_036_0001.jpg\",\n",
    "\"/home/dircon/seoyun2/contest/AIHub/train_gt/D-211215_O9124CGT_074_0001.jpg\"]"
   ]
  },
  {
   "cell_type": "code",
   "execution_count": 18,
   "metadata": {},
   "outputs": [],
   "source": [
    "import glob\n",
    "tr = glob.glob(\"/home/dircon/seoyun2/contest/AIHub/val/*jpg\")\n"
   ]
  },
  {
   "cell_type": "code",
   "execution_count": 19,
   "metadata": {},
   "outputs": [],
   "source": [
    "tr.sort()"
   ]
  },
  {
   "cell_type": "code",
   "execution_count": null,
   "metadata": {},
   "outputs": [],
   "source": [
    "print(tr)"
   ]
  },
  {
   "cell_type": "code",
   "execution_count": 21,
   "metadata": {},
   "outputs": [],
   "source": [
    "i = 0\n",
    "for path in tr:\n",
    "    file_gt = path[:35]+'val_gt'+path[38:]\n",
    "    val = io.imread(path)\n",
    "    val_gt = io.imread(file_gt)\n",
    "\n",
    "    io.imsave(\"/home/dircon/seoyun2/contest/AIHub/VAL/\"+path[-30:], val)\n",
    "    io.imsave(\"/home/dircon/seoyun2/contest/AIHub/VAL_GT/\"+path[-30:], val_gt)\n",
    "    i +=1\n",
    "    if i == 300:\n",
    "        break"
   ]
  },
  {
   "cell_type": "code",
   "execution_count": 28,
   "metadata": {},
   "outputs": [],
   "source": [
    "for path in rm_list:\n",
    "    !rm $path"
   ]
  },
  {
   "cell_type": "code",
   "execution_count": 4,
   "metadata": {},
   "outputs": [
    {
     "name": "stderr",
     "output_type": "stream",
     "text": [
      "/home/dircon/anaconda3/lib/python3.9/site-packages/scipy/__init__.py:138: UserWarning: A NumPy version >=1.16.5 and <1.23.0 is required for this version of SciPy (detected version 1.23.3)\n",
      "  warnings.warn(f\"A NumPy version >={np_minversion} and <{np_maxversion} is required for this version of \"\n"
     ]
    }
   ],
   "source": [
    "import skimage.io as io\n",
    "import numpy as np"
   ]
  },
  {
   "cell_type": "code",
   "execution_count": 16,
   "metadata": {},
   "outputs": [],
   "source": [
    "sr = io.imread(\"/home/dircon/seoyun2/contest/AIHub/val/D-210824_O4053CGT_004_0001.jpg\")#\"/home/dircon/hoeyeong/Restormer/demo/restored/deraining/Deraining/D-210824_O4053CGT_004_0001.png\")\n",
    "hr = io.imread(\"/home/dircon/seoyun2/contest/AIHub/val_gt/D-210824_O4053CGT_004_0001.jpg\")\n",
    "#io.imsave(\"/home/dircon/hoeyeong/Restormer/final.png\", hr)"
   ]
  },
  {
   "cell_type": "code",
   "execution_count": 18,
   "metadata": {},
   "outputs": [],
   "source": [
    "def calculate_psnr(img1, img2):\n",
    "    img1 = img1.astype(np.float64)\n",
    "    img2 = img2.astype(np.float64)\n",
    "\n",
    "    mse = np.mean((img1 - img2)**2)\n",
    "    if mse == 0:\n",
    "        return float(\"inf\")\n",
    "    return 20 * np.log10(255.0 / np.sqrt(mse))"
   ]
  },
  {
   "cell_type": "code",
   "execution_count": 20,
   "metadata": {},
   "outputs": [
    {
     "data": {
      "text/plain": [
       "13.952348551064016"
      ]
     },
     "execution_count": 20,
     "metadata": {},
     "output_type": "execute_result"
    }
   ],
   "source": [
    "calculate_psnr(hr, sr)"
   ]
  }
 ],
 "metadata": {
  "kernelspec": {
   "display_name": "Python 3.9.7 ('base')",
   "language": "python",
   "name": "python3"
  },
  "language_info": {
   "codemirror_mode": {
    "name": "ipython",
    "version": 3
   },
   "file_extension": ".py",
   "mimetype": "text/x-python",
   "name": "python",
   "nbconvert_exporter": "python",
   "pygments_lexer": "ipython3",
   "version": "3.9.7"
  },
  "orig_nbformat": 4,
  "vscode": {
   "interpreter": {
    "hash": "e2e4a47e36f0811c316f759d1a92830bb55dbd78977c69f453a1e4981941b515"
   }
  }
 },
 "nbformat": 4,
 "nbformat_minor": 2
}
